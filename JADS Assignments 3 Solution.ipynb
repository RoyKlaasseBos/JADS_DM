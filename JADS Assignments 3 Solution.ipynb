{
 "cells": [
  {
   "cell_type": "markdown",
   "metadata": {
    "slideshow": {
     "slide_type": "slide"
    }
   },
   "source": [
    "# Data Mining (JADS) - Assignment 3 Solution\n",
    "This assignment is all about evaluating models, to select the best models for a given dataset, or understand algorithm performance. We will use several new datasets in this assignment. To download them, go to https://www.openml.org and create an account. Use your actual name since this will be important for the final assignment. For now, we will only use OpenML for downloading datasets.\n",
    "\n",
    "The same rules as the previous assignments regarding report length and formatting apply."
   ]
  },
  {
   "cell_type": "markdown",
   "metadata": {
    "slideshow": {
     "slide_type": "subslide"
    }
   },
   "source": [
    "## Exercise 1: 10-fold cross-validation (1 point)\n",
    "Evaluate the performance of the J48 decision tree induction algorithm on the Waveform dataset, using 10-fold cross-validation. More information on the dataset here: https://www.openml.org/d/60. Download with the download icon.\n",
    "\n",
    "* To get the individual results of the 10-fold cross-validation. In the Weka Experimenter, click 'New', and then add the dataset under datasets and J48 under algorithms. Set 'Number of repetitions' to 1. Then click 'start' in the Run tab. When finished, go to Analyse, click 'Experiment'. Under Row, choose 'Fold', and under Cols, choose 'Area_Under_ROC'. Report the numbers that you see (or add a screenshot) and explain what they mean.\n",
    "* Compute and report the mean and variance of these results.\n",
    "* Explain what causes the variance in these results."
   ]
  },
  {
   "cell_type": "markdown",
   "metadata": {},
   "source": [
    "__Solution__\n",
    "\n",
    "* Screenshot:\n",
    "![Folds](./images/A3_1.png)\n",
    "* $mean = \\frac{\\sum_{i} x_i}{n}$ = 0.8137, $variance = \\frac{\\sum_{i} (x_i-\\bar{x})^2}{n-1}$ = 0.000550. Also see code below.\n",
    "* The variance is caused by having different instances in the training and test set. Hence, the model is trained and tested on different instances, yielding different performances. The dataset is quite large, so the variance can be expected to be quite low."
   ]
  },
  {
   "cell_type": "code",
   "execution_count": 1,
   "metadata": {
    "collapsed": false
   },
   "outputs": [
    {
     "name": "stdout",
     "output_type": "stream",
     "text": [
      "Mean: 0.813737\n",
      "Variance: 0.000550\n"
     ]
    }
   ],
   "source": [
    "import numpy as np\n",
    "\n",
    "results = [0.833503, 0.775686, 0.826525, 0.782227, 0.799272, 0.80578, 0.813958, 0.858408, 0.829126, 0.812885]\n",
    "    \n",
    "print(\"Mean: %f\" % (np.mean(results)))\n",
    "print(\"Variance: %f\" % (np.var(results)))"
   ]
  },
  {
   "cell_type": "markdown",
   "metadata": {
    "slideshow": {
     "slide_type": "subslide"
    }
   },
   "source": [
    "## Exercise 2: Statistical analysis of evaluation results (1 point)\n",
    "Compare 2 classifiers (J48 and Naive Bayes) on 3 datasets: Waveform, Letter, and Soybean. Letter can be found here: https://www.openml.org/d/6, and Soybean here: https://www.openml.org/d/42.\n",
    "\n",
    "* In the Weka Experimenter, click 'new' and select the 3 datasets and 2 algorithms above. Then run the experiments (they may take a few minutes). Then go to the 'Analyse' tab and click 'Experiment'.\n",
    "* Do a statistical analysis of the performance results. Run a corrected paired T-test with significance level 5%, using the 'Area_under_ROC' measure. Click 'perform test'. Add a screenshot of the result.\n",
    "* Interpret the results. Remember that 'v' means a (statistically significant) win and '\\*' a (statistically significant) loss.\n",
    "* Which algorithm is winning on which datasets? Which is the overall best?"
   ]
  },
  {
   "cell_type": "markdown",
   "metadata": {},
   "source": [
    "__Solution__\n",
    "\n",
    "* Screenshot:\n",
    "![Folds](./images/A3_2.png)\n",
    "* There is no clear winner. Naive Bayes is significantly better than J48 on waveform, significantly worse on letter, and on par on dataset soybean.\n",
    "* There is no overall best algorithm. They all have an equal amount of wins/ties/losses. The best algorithm purely depends on the dataset."
   ]
  },
  {
   "cell_type": "markdown",
   "metadata": {
    "slideshow": {
     "slide_type": "subslide"
    }
   },
   "source": [
    "## Exercise 3: ROC curves (2 points)\n",
    "Given below is the real classification of 13 instances and the prediction made by classifiers A and B, and a probabilistic classifier C. Remember that a probability can be turned into a classification by providing a threshold (e.g. 0.5). C is considered to predict + if its prediction is above the threshold, - otherwise.\n",
    "\n",
    "example| 1 | 2 | 3 | 4 | 5 | 6 | 7 | 8 | 9 |10 |11 |12 |13 \n",
    "---|---|---|---|---|---|---|---|---|---|---|---|---|---\n",
    "true label|+ | + | + | + | + | + | + | - | - | - | - | - | - \n",
    "prediction A  | + | + | - | - | + | + | - | - | + | - | - | - | - \n",
    "prediction B  | + | + | + | + | - | + | + | - | + | - | + | - | - \n",
    "prediction C  |0.8|0.9|0.7|0.6|0.4|0.8|0.4|0.4|0.6|0.4|0.4|0.4|0.2\n",
    "\n",
    "Do the following:\n",
    "\n",
    "- Plot A and B on a ROC diagram (using a program that can plot, e.g. Excel, or by hand). \n",
    "- For C, add a point for every threshold that makes a difference. This will yield a ROC curve for C.\n",
    "- Draw the convex hull of the classifiers A, B, C. See the example figure below. Use all points for C that you computed above. Which classifiers are never optimal? Which classifiers are optimal in a certain environment?\n",
    "- Finally, consider a situation where the cost of a false positive and false negative are $C_{FP}=1$ and $C_{FN}=5$. Draw the corresponding cost line in th ROC diagram. Which classifier is best considering these costs: A, B, or C with a threshold of 0.5?"
   ]
  },
  {
   "cell_type": "code",
   "execution_count": 3,
   "metadata": {
    "collapsed": false
   },
   "outputs": [
    {
     "data": {
      "image/png": "[encoded data removed]",
      "text/plain": [
       "<IPython.core.display.Image object>"
      ]
     },
     "metadata": {
      "image/png": {
       "width": 400
      }
     },
     "output_type": "display_data"
    }
   ],
   "source": [
    "from IPython.display import display, Image\n",
    "display(Image('./images/convex_hull.png', width=400))"
   ]
  },
  {
   "cell_type": "markdown",
   "metadata": {},
   "source": [
    "__Solution__\n",
    "\n",
    "* We plot the ROC diagram using Python (any other tool is also fine)\n",
    "* For C, we plot all thresholds (0.2, 0.4, 0.6, 0.7, 0.8, 0.9)\n",
    "    * We predict positive at greater than or equal to the threshold value"
   ]
  },
  {
   "cell_type": "code",
   "execution_count": 70,
   "metadata": {
    "collapsed": false
   },
   "outputs": [
    {
     "data": {
      "image/png": "[encoded data removed]",
      "text/plain": [
       "<matplotlib.figure.Figure at 0x106843748>"
      ]
     },
     "metadata": {},
     "output_type": "display_data"
    }
   ],
   "source": [
    "import matplotlib.pyplot as plt\n",
    "\n",
    "# Predictions\n",
    "truth = [1,1,1,1,1,1,1,0,0,0,0,0,0]\n",
    "pred_A = [1,1,0,0,1,1,0,0,1,0,0,0,0]\n",
    "pred_B = [1,1,1,1,0,1,1,0,1,0,1,0,0]\n",
    "pred_C = [0.8,0.9,0.7,0.6,0.4,0.8,0.4,0.4,0.6,0.4,0.4,0.4,0.2]\n",
    "\n",
    "# Compute False Positive Rate and True Positive Rate\n",
    "def fpr_tpr(prediction, truth, threshold=0.5):\n",
    "    tp = sum(t == 1 and p >= threshold for p, t in zip(prediction, truth)) \n",
    "    fn = sum(t == 1 and p < threshold for p, t in zip(prediction, truth)) \n",
    "    tn = sum(t == 0 and p < threshold for p, t in zip(prediction, truth)) \n",
    "    fp = sum(t == 0 and p >= threshold for p, t in zip(prediction, truth)) \n",
    "    return (fp/(fp+tn), tp/(tp+fn))\n",
    "\n",
    "# Compute, A, B, and all C's\n",
    "points = [fpr_tpr(pred_A,truth), fpr_tpr(pred_B,truth)]\n",
    "labels = [\"A\",\"B\"]\n",
    "for thresh in [0.2, 0.4, 0.6, 0.7, 0.8, 0.9]:\n",
    "    points.append(fpr_tpr(pred_C,truth,thresh))\n",
    "    labels.append(\"C\" + \"_\" + str(thresh))\n",
    "\n",
    "# Plot    \n",
    "fpr, tpr = zip(*points)\n",
    "fig, ax = plt.subplots()\n",
    "ax.scatter(fpr, tpr)\n",
    "for i, txt in enumerate(labels):\n",
    "    ax.annotate(txt, (fpr[i],tpr[i]))\n",
    "plt.show()"
   ]
  },
  {
   "cell_type": "markdown",
   "metadata": {},
   "source": [
    "* The convex hull plotted for the same points\n",
    "* Algorithm A is never optimal, since it lies under the convex hull. Whether we want to optimize of TPR or FPR, there is always another model that outperforms the one produced by A.\n",
    "* Algorithms C_0.7, C_0.6, B, C_0.4, and C_0.2 will be optimal in different conditions. C_0.9 and C_0.8 are equally good as C_0.7 when we don't care about the true positive rate. In practice we want a high TPR, so C_0.7 is the best of these. The same goes for C_0.4 and C_0.2: we will always prefer C_0.4 since it has a lower FPR. "
   ]
  },
  {
   "cell_type": "code",
   "execution_count": 71,
   "metadata": {
    "collapsed": false
   },
   "outputs": [
    {
     "data": {
      "image/png": "[encoded data removed]",
      "text/plain": [
       "<matplotlib.figure.Figure at 0x10c34bfd0>"
      ]
     },
     "metadata": {},
     "output_type": "display_data"
    }
   ],
   "source": [
    "from scipy.spatial import ConvexHull\n",
    "hull_indices = np.unique(ConvexHull(points).simplices.flat)\n",
    "hull_points = np.column_stack(([fpr[i] for i in hull_indices], [tpr[i] for i in hull_indices]))\n",
    "hull_points = np.sort(hull_points, axis=0)\n",
    "\n",
    "# Plot    \n",
    "fig, ax = plt.subplots()\n",
    "ax.scatter(fpr, tpr)\n",
    "for i, txt in enumerate(labels):\n",
    "    ax.annotate(txt, (fpr[i],tpr[i]))\n",
    "plt.plot(hull_points[:,0],hull_points[:,1])\n",
    "plt.show()"
   ]
  },
  {
   "cell_type": "markdown",
   "metadata": {},
   "source": [
    "* For the specific case that FN's have a cost 5 times greater than FP's, we can draw the cost lines through A, B and C_0.5. The cost line is a simple line with coefficient 1/5.\n",
    "* The cost line through B is higher than the others, hence B is the best algorithm under these conditions."
   ]
  },
  {
   "cell_type": "code",
   "execution_count": 77,
   "metadata": {
    "collapsed": false
   },
   "outputs": [
    {
     "data": {
      "image/png": "[encoded data removed]",
      "text/plain": [
       "<matplotlib.figure.Figure at 0x10c80be80>"
      ]
     },
     "metadata": {},
     "output_type": "display_data"
    }
   ],
   "source": [
    "# Cost line through the given point\n",
    "def cost_line(cost_fp,cost_fn,point):\n",
    "    coeff = cost_fp / cost_fn\n",
    "    return ([point[1]-point[0]*coeff,point[1]+(1-point[0])*coeff])\n",
    "\n",
    "# Plot    \n",
    "fig, ax = plt.subplots()\n",
    "ax.scatter(fpr, tpr)\n",
    "for i, txt in enumerate(labels):\n",
    "    ax.annotate(txt, (fpr[i],tpr[i]))\n",
    "plt.plot(cost_line(1,5,points[0])) # cost line through A\n",
    "plt.plot(cost_line(1,5,points[1])) # cost line through B\n",
    "plt.plot(cost_line(1,5,points[4])) # cost line through C_0.5 (same as C_0.6)\n",
    "plt.show()"
   ]
  },
  {
   "cell_type": "markdown",
   "metadata": {
    "slideshow": {
     "slide_type": "subslide"
    }
   },
   "source": [
    "## Exercise 4: Comparing Classifiers (1 point)\n",
    "Plot the Precision-Recall curves of the J48 decision tree learner and Naive Bayes on dataset Spambase: https://www.openml.org/d/44.\n",
    "\n",
    "* In the Explorer, train the algorithms. Then in 'Result list', right-click and choose 'Visualize Threshold curve', and then choose class '1' (the 'spam' class). Choose 'Precision' for the Y-axis, and 'Recall' for the X-axis. Put a screenshots of the resulting Precision-Recall curves in the report.\n",
    "* Discuss the major differences between the two curves. Explain why they are different.\n",
    "* Which is the best algorithm based on the Area under the Precision-Recall curve? You can find this for both algorithms in the list of results in the Classifier Tab, called 'PRC area'. Use the weighted average.\n",
    "* In a situation where you want high recall (you catch almost all spam emails), which of the two algorithms would you choose? Which threshold value would you use (you can either select points or just look at the color of the points)?\n",
    "* Can you simply choose the solution with maximum recall (Recall=1) and low precision? Why (not)? What would that mean for the problem of classifing spam emails?"
   ]
  },
  {
   "cell_type": "markdown",
   "metadata": {},
   "source": [
    "__Solution__\n",
    "\n",
    "* PRC curve for J48 (X: Recall, Y: Precision):\n",
    "![Folds](./images/A3_4a.png)\n",
    "* PRC curve for Naive Bayes:\n",
    "![Folds](./images/A3_4b.png)\n",
    "* Discussion:\n",
    "    * Naive Bayes is a probabilistic classifier (it predicts probabilities). Hence, the PR-curve will be a smooth line (every threshold value has a precision and recall value). The decision tree only gives different predictions for certain thresholds.\n",
    "    * Naive Bayes has very high recall no matter what the thershold is. J48 has very low recall for certain thresholds, although precision is typically higher. Hence, if recall is important, we need to set the threshold for J48 carefully.\n",
    "    * For the default threshold (where the color changes), J48 has both high precision and high recall. Naive Bayes has higher recall, but much lower precision at that point.\n",
    "* AUPRC for J48: 0.917, for NB: 0.922. Naive Bayes slightly outperforms J48 ont his measure.\n",
    "* Maximum recall means that there are very few or no false negatives. However, it often means that there are many false positives (thus low precision). We see that for both algorithms, precision will be very low. For a spam filter, it means that all spam, but also a lot of 'good' email goes straight to the spam folder. This would be pointless because we would have to constantly check our spam folder."
   ]
  },
  {
   "cell_type": "markdown",
   "metadata": {
    "slideshow": {
     "slide_type": "subslide"
    }
   },
   "source": [
    "## Exercise 5: Classification trees (2 points)\n",
    "Consider the following dataset. It record several attempts at asking your friend out for a date. Inputs are various weather conditions, and the target is whether or not your friend agreed to go out. You want to learn a decision tree to predict whether your friend wants to go out at any given day (assuming that there are no other factors involved).\n",
    "\n",
    "Example|Sky|AirTemp|Humidity|Wind|Water|Forecast|Date?\n",
    "---|---|---|---|---|---|---|---\n",
    "1|sunny|warm|normal|strong|warm|same|yes\n",
    "2|sunny|warm|high|strong|warm|same|yes\n",
    "3|rainy|cold|high|strong|warm|change|no\n",
    "4|sunny|warm|high|strong|cool|change|yes\n",
    "5|sunny|warm|normal|weak|warm|same|no\n",
    "\n",
    "Learn a decision tree:\n",
    "\n",
    "- Compute the class entropy for the entire dataset?\n",
    "- What is the information gain when you split the data using the *Sky* feature? Show your calculation.\n",
    "- Construct a tree by following a simple decision tree learner:\n",
    "    - Select a feature to split on according to its information gain. Compute the information gain for all features, and choose the one with the highest information gain. If multiple features are equally good, select the leftmost one.\n",
    "    - Split the data according to this feature. Write down the 2 new tables that you get.\n",
    "    - For each of these, compute again the best split using information gain (or stop when every instance has the same class).\n",
    "    - Repeat until the tree is complete (it should be quite small). Show the whole tree."
   ]
  },
  {
   "cell_type": "markdown",
   "metadata": {},
   "source": [
    "* E(dataset) = $-[\\frac{3}{5}log_2(\\frac{3}{5}) + \\frac{2}{5}log_2(\\frac{2}{5})] = 0.971$\n",
    "* Information gain for Sky:\n",
    "    * E(sky=sunny) = $-[\\frac{3}{4}log_2(\\frac{3}{4}) + \\frac{1}{4}log_2(\\frac{1}{4})] = 0.811$\n",
    "    * E(sky=rainy) = $-[\\frac{0}{1}log_2(\\frac{0}{1}) + \\frac{1}{1}log_2(\\frac{1}{1})] = 0$\n",
    "    * IG(sky) = $E(dataset) - \\frac{4}{5} E(sky=sunny) - \\frac{1}{5} E(sky=rainy) = 0.322$\n",
    "* Construct tree:\n",
    "    * Sky, AirTemp and Wind all have the highest information gain (0.322). The leftmost is Sky, so we'll split on that\n",
    "    * Sky=rainy has a single example, so we can stop (the leaf is pure)\n",
    "    * Sky=sunny has 4 examples left. The new dataset is obtained by removing row 3 and column Sky.\n",
    "    * For the remaining data, feature Wind has the highest information gain (0.971).\n",
    "    * Splitting on Wind gives us all pure leafs, so the tree is done.\n",
    "* Final tree:\n",
    "![Folds](./images/A3_5.png)"
   ]
  },
  {
   "cell_type": "markdown",
   "metadata": {
    "slideshow": {
     "slide_type": "subslide"
    }
   },
   "source": [
    "## Exercise 6: Manual model selection (2 points)\n",
    "Try to find the optimal parameters of the J48 decision tree induction algorithm on the Waveform dataset, through reasoning about the observed performance.\n",
    "\n",
    "You are asked to (manually) vary 2 of J48's hyperparameters:\n",
    "\n",
    "- Minimal number of objects (M): The number of instances that need to be in a leaf before it can be split. Large values lead to smaller, simpler trees.\n",
    "    - Reasonable values are between 2 and 128\n",
    "- Confidence factor (C): The confidence threshold used for pruning the tree. It defines how much a tree is pruned after it is built. Small values will lead to more pruning, and thus smaller, simpler trees.\n",
    "    - Reasonable values are between 0.001 and 1000 (log scale)\n",
    "\n",
    "Answer the following questions.\n",
    "\n",
    "- Start with the default settings: M=2 and C=0.25. Use the explorer to evaluate the model with 10-fold crossvalidation. What is the accuracy (Correctly Classified Instances)?\n",
    "- Run it again with M=8 and M=64. What are the estimated performances?\n",
    "- Considering the performance of M=2,8,64 and your understanding of what M does, for which value is the model likely underfitting? For which is overfitting?\n",
    "- Given your interpretation from the previous question, which would be a good value of M to try next? Try it and report the performance? Did you find a better result?\n",
    "- Return to M=2 and set C=0.01. What is the performance? What about C=1?\n",
    "- Looking at the values tried (0.01, 0.25, 1.0), are there values that are likely overfitting or underfitting?\n",
    "- Based on this, what would be a better C value to try? Try it and report the result. Is it better, or overfitting or underfitting more?\n",
    "- Finally, train a model with the best values observed values for C and M. Is this model better? Explain why (or why not)."
   ]
  },
  {
   "cell_type": "markdown",
   "metadata": {},
   "source": [
    "__Solution__\n",
    "\n",
    "* Default accuracy (M=2): 75.08%\n",
    "* M=8: 76.26%, M=64: 75.06%\n",
    "* Increasing the number of instances per leaf makes trees smaller, thus making overfitting less likely and underfitting more likely. Since M=8 is optimal, M=2 is likely overfitting, M=64 is likely underfitting.\n",
    "* Try values around M=8. M=6: 76.68%, M=10: 76.18%. Optimal value is likely around M=6, at least between M=2 and M=8.\n",
    "* C=0.01: 76.54%, C=1: 74.94% (default C=0.25: 75.08%)\n",
    "* Increasing the C parameter (confidence threshold) yields larger trees, more prone to overfitting. Looking at the performance results, both C=0.25 and C=1 seem to be overfitting.\n",
    "* Try an even smaller value. C=0.001: 76.38%, C=0.005: 76.08%. The performance differences are really small and non-monotonous. It doesn't seem to matter much whether we use C=0.001,0.005 or 0.01. \n",
    "* Using M=8 and C=0.01 we get 76.88%, only slightly better than previous results. It is empirically better but the difference is likely not statistically significant. The relatively small C and high M are much less likely to overfit than the default setting. Even if the performance differences are small, it may be safer to choose these values to avoid overfitting. "
   ]
  },
  {
   "cell_type": "markdown",
   "metadata": {
    "slideshow": {
     "slide_type": "subslide"
    }
   },
   "source": [
    "## Exercise 7: Random Search (1 point)\n",
    "Finally, we will optimize these hyperparameters automatically. For this, we need to use the package manager to install the MultiSearch package. After installation (and restart), you should see the MultiSearch algorithm in Weka's classifier list (under 'meta').\n",
    "\n",
    "- Set up a random search with as evaluation 'Accuracy' and classier 'J48'. You need to add 2 parameter ranges under 'searchParameters': C, varied from $10^{-3}$ to $10^{3}$, and M, varied from $2$ to $128$ ('Expression' should be set to 'I'). Add a screenshot of your settings.\n",
    "- Run the random search. This may take a few minutes. What are the reported optimal values for C and M (search the output for 'Values')? What is the performance of the selected model? Is it better than the performance you found manually?"
   ]
  },
  {
   "cell_type": "markdown",
   "metadata": {},
   "source": [
    "__Solution__\n",
    "\n",
    "* Example Grid Search settings (many good possibilities exist):\n",
    "    * C: min -3, max 3, base 10, step size 0.1\n",
    "    * M: min 1, max 7, base 2, step size 0.1\n",
    "* This grid search yields as optimal configuration M=8, C=0.02, with performance 76.42%. This is very similar to the manual search (but much easier)."
   ]
  },
  {
   "cell_type": "code",
   "execution_count": null,
   "metadata": {
    "collapsed": true
   },
   "outputs": [],
   "source": []
  }
 ],
 "metadata": {
  "anaconda-cloud": {},
  "celltoolbar": "Slideshow",
  "kernelspec": {
   "display_name": "Python [conda root]",
   "language": "python",
   "name": "conda-root-py"
  },
  "language_info": {
   "codemirror_mode": {
    "name": "ipython",
    "version": 3
   },
   "file_extension": ".py",
   "mimetype": "text/x-python",
   "name": "python",
   "nbconvert_exporter": "python",
   "pygments_lexer": "ipython3",
   "version": "3.5.2"
  }
 },
 "nbformat": 4,
 "nbformat_minor": 0
}
