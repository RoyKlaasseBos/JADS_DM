{
 "cells": [
  {
   "cell_type": "markdown",
   "metadata": {},
   "source": [
    "# Data Mining (JADS) - Assignment 3\n",
    "This assignment is all about evaluating models, to select the best models for a given dataset, or understand algorithm performance. We will use several new datasets in this assignment. To download them, go to https://www.openml.org and create an account. Use your actual name since this will be important for the final assignment. For now, we will only use OpenML for downloading datasets.\n",
    "\n",
    "The same rules as the previous assignments regarding report length and formatting apply."
   ]
  },
  {
   "cell_type": "markdown",
   "metadata": {},
   "source": [
    "## Exercise 1: 10-fold cross-validation (1 point)\n",
    "Evaluate the performance of the J48 decision tree induction algorithm on the Waveform dataset, using 10-fold cross-validation. More information on the dataset here: https://www.openml.org/d/60. Download with the download icon.\n",
    "\n",
    "* To get the individual results of the 10-fold cross-validation. In the Weka Experimenter, click 'New', and then add the dataset under datasets and J48 under algorithms. Set 'Number of repetitions' to 1. Then click 'start' in the Run tab. When finished, go to Analyse, click 'Experiment'. Under Row, choose 'Fold', and under Cols, choose 'Area_Under_ROC'. Report the numbers that you see (or add a screenshot) and explain what they mean.\n",
    "* Compute and report the mean and variance of these results.\n",
    "* Explain what causes the variance in these results."
   ]
  },
  {
   "cell_type": "markdown",
   "metadata": {},
   "source": [
    "## Exercise 2: Statistical analysis of evaluation results (1 point)\n",
    "Compare 2 classifiers (J48 and Naive Bayes) on 3 datasets: Waveform, Letter, and Soybean. Letter can be found here: https://www.openml.org/d/6, and Soybean here: https://www.openml.org/d/42.\n",
    "\n",
    "* In the Weka Experimenter, click 'new' and select the 2 datasets and 2 algorithms above. Then run the experiments (they may take a few minutes). Then go to the 'Analyse' tab and click 'Experiment'.\n",
    "* Do a statistical analysis of the performance results. Run a corrected paired T-test with significance level 5%, using the 'Area_under_ROC' measure. Click 'perform test'. Add a screenshot of the result.\n",
    "* Interpret the results. Remember that 'v' means a (statistically significant) win and '\\*' a (statistically significant) loss.\n",
    "* Which algorithm is winning on which datasets? Which is the overall best?"
   ]
  },
  {
   "cell_type": "markdown",
   "metadata": {},
   "source": [
    "## Exercise 3: ROC curves (2 points)\n",
    "Given below is the real classification of 13 instances and the prediction made by classifiers A and B, and a probabilistic classifier C. Remember that a probability can be turned into a classification by providing a threshold (e.g. 0.5). C is considered to predict + if its prediction is above the threshold, - otherwise.\n",
    "\n",
    "example| 1 | 2 | 3 | 4 | 5 | 6 | 7 | 8 | 9 |10 |11 |12 |13 \n",
    "---|---|---|---|---|---|---|---|---|---|---|---|---|---\n",
    "true label|+ | + | + | + | + | + | + | - | - | - | - | - | - \n",
    "prediction A  | + | + | - | - | + | + | - | - | + | - | - | - | - \n",
    "prediction B  | + | + | + | + | - | + | + | - | + | - | + | - | - \n",
    "prediction C  |0.8|0.9|0.7|0.6|0.4|0.8|0.4|0.4|0.6|0.4|0.4|0.4|0.2\n",
    "\n",
    "Do the following:\n",
    "\n",
    "- Plot A and B on a ROC diagram (using a program that can plot, e.g. Excel, or by hand). \n",
    "- For C, add a point for every threshold that makes a difference. This will yield a ROC curve for C.\n",
    "- Draw the convex hull of the classifiers A, B, C. See the example figure below. Use all points for C that you computed above. Which classifiers are never optimal? Which classifiers are optimal in a certain environment?\n",
    "- Finally, consider a situation where the cost of a false positive and false negative are $C_{FP}=1$ and $C_{FN}=5$. Draw the corresponding cost line in th ROC diagram. Which classifier is best considering these costs: A, B, or C with a threshold of 0.5?"
   ]
  },
  {
   "cell_type": "code",
   "execution_count": 3,
   "metadata": {
    "collapsed": false
   },
   "outputs": [
    {
     "data": {
      "image/png": "[encoded data removed]",
      "text/plain": [
       "<IPython.core.display.Image object>"
      ]
     },
     "metadata": {
      "image/png": {
       "width": 400
      }
     },
     "output_type": "display_data"
    }
   ],
   "source": [
    "from IPython.display import display, Image\n",
    "display(Image('./images/convex_hull.png', width=400))"
   ]
  },
  {
   "cell_type": "markdown",
   "metadata": {},
   "source": [
    "## Exercise 4: Comparing Classifiers (1 point)\n",
    "Plot the Precision-Recall curves of the J48 decision tree learner and Naive Bayes on dataset Spambase: https://www.openml.org/d/44.\n",
    "\n",
    "* In the Explorer, train the algorithms. Then in 'Result list', right-click and choose 'Visualize Threshold curve', and then choose class '1' (the 'spam' class). Choose 'Precision' for the Y-axis, and 'Recall' for the X-axis. Put a screenshots of the resulting Precision-Recall curves in the report.\n",
    "* Discuss the major differences between the two curves. Explain why they are different.\n",
    "* Which is the best algorithm based on the Area under the Precision-Recall curve? You can find this for both algorithms in the list of results in the Classifier Tab, called 'PRC area'. Use the weighted average.\n",
    "* In a situation where you want high recall (you catch almost all spam emails), which of the two algorithms would you choose? Which threshold value would you use (you can either select points or just look at the color of the points)?\n",
    "* Can you simply choose the solution with maximum recall (Recall=1) and low precision? Why (not)? What would that mean for the problem of classifing spam emails?"
   ]
  },
  {
   "cell_type": "markdown",
   "metadata": {},
   "source": [
    "## Exercise 5: Classification trees (2 points)\n",
    "Consider the following dataset. It record several attempts at asking your friend out for a date. Inputs are various weather conditions, and the target is whether or not your friend agreed to go out. You want to learn a decision tree to predict whether your friend wants to go out at any given day (assuming that there are no other factors involved).\n",
    "\n",
    "Example|Sky|AirTemp|Humidity|Wind|Water|Forecast|Date?\n",
    "---|---|---|---|---|---|---|---\n",
    "1|sunny|warm|normal|strong|warm|same|yes\n",
    "2|sunny|warm|high|strong|warm|same|yes\n",
    "3|rainy|cold|high|strong|warm|change|no\n",
    "4|sunny|warm|high|strong|cool|change|yes\n",
    "5|sunny|warm|normal|weak|warm|same|no\n",
    "\n",
    "Learn a decision tree:\n",
    "\n",
    "- Compute the class entropy for the entire dataset?\n",
    "- What is the information gain when you split the data using the *Sky* feature? Show your calculation.\n",
    "- Construct a tree by following a simple decision tree learner:\n",
    "    - Select a feature to split on according to its information gain. Compute the information gain for all features, and choose the one with the highest information gain. If multiple features are equally good, select the leftmost one.\n",
    "    - Split the data according to this feature. Write down the 2 new tables that you get.\n",
    "    - For each of these, compute again the best split using information gain (or stop when every instance has the same class).\n",
    "    - Repeat until the tree is complete (it should be quite small). Show the whole tree."
   ]
  },
  {
   "cell_type": "markdown",
   "metadata": {},
   "source": [
    "## Exercise 6: Manual model selection (2 points)\n",
    "Try to find the optimal parameters of the J48 decision tree induction algorithm on the Waveform dataset, through reasoning about the observed performance.\n",
    "\n",
    "You are asked to (manually) vary 2 of J48's hyperparameters:\n",
    "\n",
    "- Minimal number of objects (M): The number of instances that need to be in a leaf before it can be split. Large values lead to smaller, simpler trees.\n",
    "    - Reasonable values are between 2 and 128\n",
    "- Confidence factor (C): The confidence threshold used for pruning the tree. It defines how much a tree is pruned after it is built. Small values will lead to more pruning, and thus smaller, simpler trees.\n",
    "    - Reasonable values are between 0.001 and 1000 (log scale)\n",
    "\n",
    "Answer the following questions.\n",
    "\n",
    "- Start with the default settings: M=2 and C=0.25. Use the explorer to evaluate the model with 10-fold crossvalidation. What is the accuracy (Correctly Classified Instances)?\n",
    "- Run it again with M=8 and M=64. What are the estimated performances?\n",
    "- Considering the performance of M=2,8,64 and your understanding of what M does, for which value is the model likely underfitting? For which is overfitting?\n",
    "- Given your interpretation from the previous question, which would be a good value of M to try next? Try it and report the performance? Did you find a better result?\n",
    "- Return to M=2 and set C=0.01. What is the performance? What about C=1?\n",
    "- Looking at the values tried (0.01, 0.25, 1.0), are there values that are likely overfitting or underfitting?\n",
    "- Based on this, what would be a better C value to try? Try it and report the result. Is it better, or overfitting or underfitting more?\n",
    "- Finally, train a model with the best values observed values for C and M. Is this model better? Explain why (or why not)."
   ]
  },
  {
   "cell_type": "markdown",
   "metadata": {},
   "source": [
    "## Exercise 7: Random Search (1 point)\n",
    "Finally, we will optimize these hyperparameters automatically. For this, we need to use the package manager to install the MultiSearch package. After installation (and restart), you should see the MultiSearch algorithm in Weka's classifier list (under 'meta').\n",
    "\n",
    "- Set up a random search with as evaluation 'Accuracy' and classier 'J48'. You need to add 2 parameter ranges under 'searchParameters': C, varied from $10^{-3}$ to $10^{3}$, and M, varied from $2$ to $128$ ('Expression' should be set to 'I'). Add a screenshot of your settings.\n",
    "- Run the random search. This may take a few minutes. What are the reported optimal values for C and M (search the output for 'Values')? What is the performance of the selected model? Is it better than the performance you found manually?"
   ]
  }
 ],
 "metadata": {
  "anaconda-cloud": {},
  "kernelspec": {
   "display_name": "Python [conda root]",
   "language": "python",
   "name": "conda-root-py"
  },
  "language_info": {
   "codemirror_mode": {
    "name": "ipython",
    "version": 3
   },
   "file_extension": ".py",
   "mimetype": "text/x-python",
   "name": "python",
   "nbconvert_exporter": "python",
   "pygments_lexer": "ipython3",
   "version": "3.5.2"
  }
 },
 "nbformat": 4,
 "nbformat_minor": 0
}
